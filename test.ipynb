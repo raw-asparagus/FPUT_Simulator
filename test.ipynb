{
 "cells": [
  {
   "cell_type": "code",
   "execution_count": 1,
   "metadata": {},
   "outputs": [
    {
     "data": {
      "image/png": "[encoded data removed]",
      "text/plain": [
       "<Figure size 640x480 with 1 Axes>"
      ]
     },
     "metadata": {},
     "output_type": "display_data"
    }
   ],
   "source": [
    "import numpy as np\n",
    "import matplotlib.pyplot as plt\n",
    "\n",
    "def draw_spring(ax, start, end, num_coils=10, width=0.1, **kwargs):\n",
    "    \"\"\"\n",
    "    Draw a spring from start to end with given number of coils and width.\n",
    "    \"\"\"\n",
    "    # Linear interpolation of points along the spring length\n",
    "    t = np.linspace(0, 1, num_coils * 10)\n",
    "    x = np.linspace(start[0], end[0], num_coils * 10)\n",
    "    y = np.sin(2 * np.pi * t * num_coils) * width\n",
    "\n",
    "    # Plot the spring\n",
    "    ax.plot(x, y + (start[1] + end[1]) / 2, **kwargs)\n",
    "\n",
    "    # Plot lines to connect the spring to the start and end points\n",
    "    ax.plot([start[0], x[0]], [start[1], y[0] + (start[1] + end[1]) / 2], **kwargs)\n",
    "    ax.plot([x[-1], end[0]], [y[-1] + (start[1] + end[1]) / 2, end[1]], **kwargs)\n",
    "\n",
    "fig, ax = plt.subplots()\n",
    "ax.set_aspect('equal')\n",
    "ax.axis('off')\n",
    "\n",
    "# Spring start and end points\n",
    "start_point = (0, 0)\n",
    "end_point = (1, 0)\n",
    "\n",
    "# Draw the spring\n",
    "draw_spring(ax, start_point, end_point, num_coils=12, width=0.05, color='black')\n",
    "\n",
    "# Draw the box at the end of the spring\n",
    "box = plt.Rectangle((end_point[0], -0.25), 0.2, 0.5, linewidth=1, edgecolor='blue', facecolor='lightblue')\n",
    "ax.add_patch(box)\n",
    "\n",
    "plt.xlim(-0.5, 2)\n",
    "plt.ylim(-0.5, 0.5)\n",
    "plt.show()\n"
   ]
  },
  {
   "cell_type": "code",
   "execution_count": 7,
   "metadata": {},
   "outputs": [
    {
     "data": {
      "image/png": "[encoded data removed]",
      "text/plain": [
       "<Figure size 640x480 with 1 Axes>"
      ]
     },
     "metadata": {},
     "output_type": "display_data"
    }
   ],
   "source": [
    "import numpy as np\n",
    "import matplotlib.pyplot as plt\n",
    "from matplotlib.animation import FuncAnimation\n",
    "from matplotlib.patches import Rectangle\n",
    "\n",
    "# Constants for the simulation\n",
    "k = 0.1  # Spring constant\n",
    "mass = 1.0  # Mass of the box\n",
    "omega = np.sqrt(k / mass)  # Angular frequency (sqrt(k/m))\n",
    "amplitude = 1.0  # Amplitude of oscillation\n",
    "\n",
    "# Time array\n",
    "time = np.linspace(0, 10, 300)\n",
    "\n",
    "# Function to calculate position of the box at time t\n",
    "def position(t):\n",
    "    return amplitude * np.cos(omega * t)\n",
    "\n",
    "fig, ax = plt.subplots()\n",
    "ax.set_xlim(-2, 2)\n",
    "ax.set_ylim(-1, 1)\n",
    "\n",
    "# Plot a line for the spring, initialized to the rest position\n",
    "spring, = ax.plot([], [], 'r-', linewidth=2)\n",
    "\n",
    "# Create a rectangle for the box\n",
    "box = Rectangle((-0.1, -0.2), 0.2, 0.4, fc='blue')\n",
    "ax.add_patch(box)\n",
    "\n",
    "def init():\n",
    "    \"\"\"Initialize the background of the animation.\"\"\"\n",
    "    spring.set_data([], [])\n",
    "    return spring, box\n",
    "\n",
    "def animate(t):\n",
    "    \"\"\"Update the animation by a single frame.\"\"\"\n",
    "    x = position(t)\n",
    "    \n",
    "    # Update the spring's end position\n",
    "    spring.set_data([0, x], [0, 0])\n",
    "    \n",
    "    # Update the box's position\n",
    "    box.set_x(x - 0.1)\n",
    "    \n",
    "    return spring, box\n",
    "\n",
    "# Create the animation\n",
    "ani = FuncAnimation(fig, animate, frames=time, init_func=init, blit=True, interval=20)\n",
    "\n",
    "plt.axis('off')  # Turn off the axis for a cleaner look\n",
    "plt.show()\n",
    "\n",
    "ani.save(\"test.mp4\", writer = 'ffmpeg', fps = 60)\n"
   ]
  },
  {
   "cell_type": "code",
   "execution_count": 9,
   "metadata": {},
   "outputs": [
    {
     "data": {
      "image/png": "[encoded data removed]",
      "text/plain": [
       "<Figure size 640x480 with 1 Axes>"
      ]
     },
     "metadata": {},
     "output_type": "display_data"
    }
   ],
   "source": [
    "import numpy as np\n",
    "import matplotlib.pyplot as plt\n",
    "from matplotlib.animation import FuncAnimation\n",
    "from matplotlib.patches import Rectangle\n",
    "\n",
    "# Define the draw_spring function for drawing a dynamic spring\n",
    "def draw_spring(ax, start, end, num_coils=10, width=0.1, **kwargs):\n",
    "    t = np.linspace(0, 1, num_coils * 10)\n",
    "    x = np.linspace(start[0], end[0], num_coils * 10)\n",
    "    y = np.sin(2 * np.pi * t * num_coils) * width\n",
    "    ax.plot(x, y + (start[1] + end[1]) / 2, **kwargs)\n",
    "    ax.plot([start[0], x[0]], [start[1], y[0] + (start[1] + end[1]) / 2], **kwargs)\n",
    "    ax.plot([x[-1], end[0]], [y[-1] + (start[1] + end[1]) / 2, end[1]], **kwargs)\n",
    "\n",
    "# Initialize the plot\n",
    "fig, ax = plt.subplots()\n",
    "ax.set_aspect('equal')\n",
    "ax.axis('off')\n",
    "ax.set_xlim(-2, 2)\n",
    "ax.set_ylim(-1, 1)\n",
    "\n",
    "# Initialize the spring end point and box\n",
    "spring_end = [1, 0]\n",
    "box = Rectangle((spring_end[0]-0.1, -0.25), 0.2, 0.5, linewidth=1, edgecolor='blue', facecolor='lightblue')\n",
    "ax.add_patch(box)\n",
    "\n",
    "# Animation update function\n",
    "def update(frame):\n",
    "    ax.clear()\n",
    "    ax.set_aspect('equal')\n",
    "    ax.axis('off')\n",
    "    ax.set_xlim(-2, 2)\n",
    "    ax.set_ylim(-1, 1)\n",
    "    \n",
    "    # Update the spring's end position based on simple harmonic motion\n",
    "    spring_end[0] = 1 + np.sin(frame)\n",
    "    \n",
    "    # Redraw the spring and box with updated positions\n",
    "    draw_spring(ax, [0, 0], spring_end, num_coils=12, width=0.05, color='black')\n",
    "    box.set_x(spring_end[0]-0.1)\n",
    "    ax.add_patch(Rectangle((spring_end[0]-0.1, -0.25), 0.2, 0.5, linewidth=1, edgecolor='blue', facecolor='lightblue'))\n",
    "    \n",
    "    return ax,\n",
    "\n",
    "# Create the animation\n",
    "ani = FuncAnimation(fig, update, frames=np.linspace(0, 6*np.pi, 100), blit=False, interval=50)\n",
    "\n",
    "plt.show()\n",
    "ani.save(\"test.mp4\", writer = 'ffmpeg', fps = 60)\n"
   ]
  },
  {
   "cell_type": "code",
   "execution_count": null,
   "metadata": {},
   "outputs": [],
   "source": []
  }
 ],
 "metadata": {
  "kernelspec": {
   "display_name": "Python 3",
   "language": "python",
   "name": "python3"
  },
  "language_info": {
   "codemirror_mode": {
    "name": "ipython",
    "version": 3
   },
   "file_extension": ".py",
   "mimetype": "text/x-python",
   "name": "python",
   "nbconvert_exporter": "python",
   "pygments_lexer": "ipython3",
   "version": "3.12.2"
  }
 },
 "nbformat": 4,
 "nbformat_minor": 2
}
