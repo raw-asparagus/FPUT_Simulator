{
 "cells": [
  {
   "cell_type": "code",
   "execution_count": null,
   "metadata": {},
   "outputs": [],
   "source": [
    "\"\"\"\n",
    "================================================================\n",
    "        The Fermi-Pasta-Ulam-Tsingou (FPUT) Problem (1D)\n",
    "================================================================\n",
    "\"\"\"\n",
    "from math import log10\n",
    "import glob\n",
    "import matplotlib.pyplot as plt\n",
    "from matplotlib.animation import FuncAnimation\n",
    "import numpy as np\n",
    "import re\n",
    "from scipy.interpolate import interp1d\n",
    "\n",
    "#   Improve performance by applying 'jit' decorator\n",
    "from numba import jit\n",
    "\n",
    "__version__ = '1.0'\n"
   ]
  },
  {
   "cell_type": "code",
   "execution_count": null,
   "metadata": {},
   "outputs": [],
   "source": [
    "datasets = {\n",
    "    'displacements_1D_fixed': {},\n",
    "    'displacements_1D_periodic': {},\n",
    "    'velocities_1D_fixed': {},\n",
    "    'velocities_1D_periodic': {}\n",
    "}\n",
    "\n",
    "all_dataset_filenames = glob.glob(f'./subset_data/*.txt')\n",
    "\n",
    "for fn in all_dataset_filenames:\n",
    "    matched = re.match(r'./subset_data/([a-z]+_1D_[a-z]+)_(\\d+)_([\\dd]+)_([\\dd]+)_(\\d+)_([\\dd]+)\\((-?\\d+)\\)', fn, re.IGNORECASE)\n",
    "\n",
    "    if matched:\n",
    "        loaded_data = np.loadtxt(fn)\n",
    "\n",
    "        class_type, N, ALPHA, BETA, t_max, dt_mantissa, dt_exp = matched.groups()\n",
    "\n",
    "        ALPHA = float(ALPHA.replace('d', '.'))\n",
    "        BETA = float(BETA.replace('d', '.'))\n",
    "        t_max = 10 ** int(t_max)\n",
    "        dt = float(dt_mantissa.replace('d', '.')) * 10 ** int(dt_exp)\n",
    "        config_str = f\"{int(N)}_{str(ALPHA).replace('.', \"d\")}_{str(BETA).replace('.', \"d\")}_{int(log10(t_max))}_{str(dt_mantissa).replace('.', \"d\")}({int(dt_exp)})\"\n",
    "\n",
    "        num_steps = int(np.ceil(t_max / dt)) + 1        #   Number of time steps\n",
    "        time_points = np.linspace(0, t_max + dt, num_steps + 1)\n",
    "\n",
    "        datasets[class_type][fn] = {\n",
    "            'count': N,\n",
    "            'alpha': ALPHA,\n",
    "            'beta': BETA,\n",
    "            't_max': t_max,\n",
    "            'time_step': dt,\n",
    "            'time_points': time_points,\n",
    "            'time_points_len': len(time_points),\n",
    "            'data': loaded_data,\n",
    "            'data_len': len(loaded_data)\n",
    "        }\n",
    "    else:\n",
    "        print(\"Filename format does not match expected pattern. \")\n"
   ]
  },
  {
   "cell_type": "code",
   "execution_count": null,
   "metadata": {},
   "outputs": [],
   "source": [
    "def find_smallest_time_points_len(dictionary):\n",
    "    smallest_value = None\n",
    "    \n",
    "    def recursive_search(dictionary):\n",
    "        nonlocal smallest_value\n",
    "        \n",
    "        for key, value in dictionary.items():\n",
    "            if type(value) is dict:\n",
    "                recursive_search(value)\n",
    "            elif key == \"time_points_len\":\n",
    "                if smallest_value is None or value < smallest_value:\n",
    "                    smallest_value = value\n",
    "    \n",
    "    recursive_search(dictionary)\n",
    "    \n",
    "    return smallest_value\n"
   ]
  },
  {
   "cell_type": "code",
   "execution_count": null,
   "metadata": {},
   "outputs": [],
   "source": [
    "def interpolate_dataset(original_time_points, data, common_time_points):\n",
    "    interpolator = interp1d(original_time_points, data, kind='linear', fill_value=\"extrapolate\")\n",
    "    return interpolator(common_time_points)\n"
   ]
  },
  {
   "cell_type": "code",
   "execution_count": null,
   "metadata": {},
   "outputs": [],
   "source": [
    "common_time_points = np.linspace(0, 1e4, find_smallest_time_points_len(datasets))\n",
    "\n",
    "for category, category_data in datasets.items():\n",
    "    for fn, details in category_data.items():\n",
    "        original_time_points = details['time_points']\n",
    "        data = details['data']\n",
    "\n",
    "        interpolated_data = interpolate_dataset(original_time_points, data, common_time_points)\n",
    "        \n",
    "        datasets[category][fn]['interpolated_data'] = interpolated_data\n"
   ]
  },
  {
   "cell_type": "code",
   "execution_count": null,
   "metadata": {},
   "outputs": [],
   "source": [
    "def calculate_rmse(data1, data2):\n",
    "    mse = np.mean((data1 - data2) ** 2)\n",
    "    rmse = np.sqrt(mse)\n",
    "    return rmse\n",
    "\n",
    "class_names = [\"displacements_1D_fixed\", \"displacements_1D_periodic\", \"velocities_1D_fixed\", \"velocities_1D_periodic\"]\n",
    "\n",
    "errors = {}\n",
    "\n",
    "for cn in class_names:\n",
    "    reference_data = datasets[cn][f'./subset_data/{cn}_64_1d0_0d1_4_7d5(-4).txt']['interpolated_data']\n",
    "\n",
    "    errors_cn = []\n",
    "\n",
    "    for filename, details in datasets[cn].items():\n",
    "        rmse_value = calculate_rmse(reference_data, details['interpolated_data'])\n",
    "        errors_cn.append([details['time_step'], rmse_value])\n",
    "\n",
    "    errors[cn] = np.array(errors_cn)\n",
    "\n",
    "# Loop through the datasets dictionary\n",
    "for (label, data), color in zip(errors.items(), ['red', 'blue', 'green', 'purple']):\n",
    "    plt.loglog(data[:, 0], data[:, 1], c = color, label = label, marker = '.', ls = '', lw = '0.5')\n",
    "\n",
    "plt.title(r'RMSE compared to $\\Delta t = 7.5 \\times 10^{-4}$')\n",
    "plt.xlabel('Chosen time step')\n",
    "plt.ylabel('RMSE')\n",
    "plt.grid(True)\n",
    "plt.legend()\n",
    "\n",
    "plt.show()\n"
   ]
  },
  {
   "cell_type": "markdown",
   "metadata": {},
   "source": [
    "We note two anomalies corresponding to time steps $\\Delta t = 0.075$ and at $\\Delta t = 7.5 \\times 10^{-3}$. It is likely that this error arose from unexpected behaviors of `scipy.interpolate` 1D interpolation function. "
   ]
  }
 ],
 "metadata": {
  "kernelspec": {
   "display_name": "Python 3",
   "language": "python",
   "name": "python3"
  },
  "language_info": {
   "codemirror_mode": {
    "name": "ipython",
    "version": 3
   },
   "file_extension": ".py",
   "mimetype": "text/x-python",
   "name": "python",
   "nbconvert_exporter": "python",
   "pygments_lexer": "ipython3",
   "version": "3.12.2"
  }
 },
 "nbformat": 4,
 "nbformat_minor": 2
}
